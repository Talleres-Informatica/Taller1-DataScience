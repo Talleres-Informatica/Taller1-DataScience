{
 "cells": [
  {
   "cell_type": "markdown",
   "id": "48736e48",
   "metadata": {},
   "source": [
    "# Taller 1"
   ]
  },
  {
   "cell_type": "markdown",
   "id": "462616dd",
   "metadata": {},
   "source": [
    "## Integrantes:\n",
    "- Catalina Sanchez\n",
    "- Samuel Fuentes\n",
    "- Pamela Vera"
   ]
  },
  {
   "cell_type": "code",
   "execution_count": null,
   "id": "531fb976",
   "metadata": {},
   "outputs": [],
   "source": [
    "# Installación de las librerías necesarias para el proyecto\n",
    "%pip install selenium\n",
    "%pip install seaborn"
   ]
  },
  {
   "cell_type": "code",
   "execution_count": null,
   "id": "8188f087",
   "metadata": {},
   "outputs": [],
   "source": [
    "# Installación de las librerías necesarias para el proyecto\n",
    "\n",
    "%pip install mathplotlib numpy pandas seaborn sklearn selenium webdriver_manager"
   ]
  },
  {
   "cell_type": "code",
   "execution_count": 57,
   "id": "a3379c4c",
   "metadata": {},
   "outputs": [],
   "source": [
    "# Importación de las librerías necesarias para el proyecto\n",
    "\n",
    "from selenium import webdriver\n",
    "from selenium.webdriver.common.by import By\n",
    "import pandas as pd\n",
    "import time\n",
    "from sklearn.linear_model import LinearRegression, Ridge, Lasso\n",
    "from sklearn.metrics import mean_squared_error, r2_score\n",
    "from sklearn.model_selection import train_test_split\n",
    "import pandas as pd\n",
    "import numpy as np\n",
    "import matplotlib.pyplot as plt\n",
    "import seaborn as sns\n",
    "from sklearn.ensemble import RandomForestClassifier\n",
    "from sklearn.metrics import classification_report, confusion_matrix\n",
    "from sklearn.model_selection import GridSearchCV\n",
    "from sklearn.neighbors import KNeighborsRegressor\n",
    "from sklearn.model_selection import cross_val_score\n",
    "\n",
    "from sklearn.neighbors import KNeighborsRegressor\n",
    "from sklearn.preprocessing import PolynomialFeatures\n",
    "from sklearn.pipeline import make_pipeline\n"
   ]
  },
  {
   "cell_type": "code",
   "execution_count": null,
   "id": "c3dd4566",
   "metadata": {},
   "outputs": [],
   "source": [
    "# Datos a extraer de los Tequilas\n",
    "data = {\n",
    "    \"Name\": [],\n",
    "    \"Type\": [],\n",
    "    \"Cask\": [],\n",
    "    \"Location\": [],\n",
    "    \"Age\": [],\n",
    "    \"ABV %\": [],\n",
    "    \"Cost\": [],\n",
    "    \"Badge\": [],\n",
    "    \"# Ratings\": [],\n",
    "    \"Communitys Rating\": [],\n",
    "    \"Flavor Summary\": [],\n",
    "    \"Expert\": [],\n",
    "    \"Expert Score\": [],\n",
    "    \"Smoky\": [],\n",
    "    \"Earthy\": [],\n",
    "    \"Spicy\": [],\n",
    "    \"Herbal\": [],\n",
    "    \"Oily\": [],\n",
    "    \"Bitter\": [],\n",
    "    \"Rich\": [],\n",
    "    \"Sweet\": [],\n",
    "    \"Mineral\": [],\n",
    "    \"Salty\": [],\n",
    "    \"Umami\": [],\n",
    "    \"Tart\": [],\n",
    "    \"Fruity\": [],\n",
    "    \"Floral\": [],\n",
    "    \"Review\": []\n",
    "}"
   ]
  },
  {
   "cell_type": "code",
   "execution_count": null,
   "id": "0b526720",
   "metadata": {},
   "outputs": [],
   "source": [
    "\n",
    "# Inicializa una lista para almacenar los datos de todos los tequilas.\n",
    "all_tequilas = []\n",
    "\n",
    "# Configura el controlador de Selenium para usar Google Chrome.\n",
    "driver = webdriver.Chrome()\n",
    "\n",
    "# Maximiza la ventana del navegador para asegurar que todo el contenido sea visible.\n",
    "driver.maximize_window()\n",
    "\n",
    "# Abre la página web de búsqueda en Distiller.\n",
    "driver.get(\"https://distiller.com/search\")\n",
    "\n",
    "# Espera 2 segundos para que la página cargue completamente.\n",
    "time.sleep(2)\n",
    "\n",
    "\n",
    "# Encuentra y cierra el botón de anuncios emergentes.\n",
    "#driver.find_element(By.CLASS_NAME, 'adthrive-close').click()\n",
    "\n",
    "# Encuentra y cierra el botón \"Remind Me Later\" para notificaciones.\n",
    "driver.find_element(By.ID, 'onesignal-slidedown-cancel-button').click()\n",
    "\n",
    "# Espera 1 segundo antes de proceder.\n",
    "time.sleep(1)\n",
    "\n",
    "# Encuentra y acepta el botón de privacidad.\n",
    "driver.find_element(By.ID, 'accept-privacy').click()\n",
    "\n",
    "# Espera 1 segundo más para que los cambios surtan efecto.\n",
    "time.sleep(1)\n",
    "\n",
    "# Selecciona la categoría \"Tequila/Mezcal\" en el menú de la página.\n",
    "driver.find_element(By.XPATH, \"//button[@data-value='agave']\").click()\n",
    "\n",
    "# Función para extraer los datos de un tequila en particular.\n",
    "def get_tequila_data():\n",
    "    try:\n",
    "        # Inicializa el diccionario data y extrae los datos en un solo paso\n",
    "        data = {\n",
    "            \"Name\": driver.find_element(By.CSS_SELECTOR, \"h1.secondary-headline.name\").text,\n",
    "            \"Type\": (driver.find_elements(By.CSS_SELECTOR, \"p.ultra-mini-headline.type\")[0].text \n",
    "                     if driver.find_elements(By.CSS_SELECTOR, \"p.ultra-mini-headline.type\") else None),\n",
    "            \"Location\": (driver.find_elements(By.CSS_SELECTOR, \"p.ultra-mini-headline.location\")[0].text \n",
    "                        if driver.find_elements(By.CSS_SELECTOR, \"p.ultra-mini-headline.location\") else None),\n",
    "            \"Communitys Rating\": (driver.find_elements(By.CSS_SELECTOR, \"div.rating-display__value span[itemprop='ratingValue']\")[0].text \n",
    "                                if driver.find_elements(By.CSS_SELECTOR, \"div.rating-display__value span[itemprop='ratingValue']\") else None),\n",
    "            \"# Ratings\": (driver.find_elements(By.CSS_SELECTOR, \"span[itemprop='ratingCount']\")[0].text \n",
    "                        if driver.find_elements(By.CSS_SELECTOR, \"span[itemprop='ratingCount']\") else None),\n",
    "            \"Expert\": (driver.find_elements(By.CSS_SELECTOR, \"div.meet-experts a[itemprop='author']\")[0].text \n",
    "                    if driver.find_elements(By.CSS_SELECTOR, \"div.meet-experts a[itemprop='author']\") else None),\n",
    "            \"Expert Score\": (driver.find_elements(By.CSS_SELECTOR, \"div.distiller-score span\")[0].text \n",
    "                            if driver.find_elements(By.CSS_SELECTOR, \"div.distiller-score span\") else None),\n",
    "            \"ABV %\": (driver.find_elements(By.CSS_SELECTOR, \"li.detail.abv div.value\")[0].text \n",
    "                    if driver.find_elements(By.CSS_SELECTOR, \"li.detail.abv div.value\") else None),\n",
    "            \"Cost\": None,\n",
    "            \"Cask\": (driver.find_elements(By.CSS_SELECTOR, \"li.detail.cask-type div.value\")[0].text \n",
    "                    if driver.find_elements(By.CSS_SELECTOR, \"li.detail.cask-type div.value\") else None),  \n",
    "        }\n",
    "\n",
    "        cost_element = driver.find_elements(By.CLASS_NAME, \"spirit-cost\")\n",
    "        if cost_element:\n",
    "            cost_class = cost_element[0].get_attribute(\"class\")\n",
    "            data[\"Cost\"] = cost_class.split(\"cost-\")[-1]  # Obtiene el valor después de \"cost-\"\n",
    "\n",
    "        \n",
    "        return data\n",
    "    except Exception as e:\n",
    "        print(f\"Error al extraer datos: {e}\")\n",
    "        return None\n",
    "        \n",
    "    except Exception as e:\n",
    "        # Maneja cualquier error durante la extracción de datos y lo imprime en la consola.\n",
    "        print(f\"Error al obtener datos del tequila: {e}\")\n",
    "        return None  # Retorna None si ocurre un error.\n",
    "\n",
    "# Bucle principal para recorrer todas las páginas de resultados.\n",
    "for _ in range(50):  \n",
    "    print(\"Scraping...\")  # Muestra en consola que el scraping ha comenzado.\n",
    "    try:\n",
    "        # Encuentra todos los tequilas visibles en la página actual.\n",
    "        spirits = driver.find_elements(By.CLASS_NAME, \"spirit\")\n",
    "        print(f\"Tequilas encontrados: {len(spirits)}\")  # Muestra la cantidad de tequilas encontrados.\n",
    "\n",
    "        # Itera sobre cada tequila en la lista.\n",
    "        for i in range(len(spirits)):\n",
    "            spirits = driver.find_elements(By.CLASS_NAME, \"spirit\")  # Actualiza la lista de tequilas (por si el DOM cambió).\n",
    "            link = spirits[i].find_element(By.TAG_NAME, 'a')  # Encuentra el enlace al perfil del tequila.\n",
    "            link.click()  # Haz clic en el enlace para acceder a los detalles del tequila.\n",
    "            time.sleep(2)  # Espera 2 segundos para que la página cargue.\n",
    "\n",
    "            # Extrae los datos del tequila y los agrega a la lista principal.\n",
    "            tequila_data = get_tequila_data()\n",
    "            if tequila_data:\n",
    "                all_tequilas.append(tequila_data)\n",
    "                print(f\"Tequila {i+1} de {len(spirits)} extraído con éxito.\")\n",
    "                print(tequila_data)\n",
    "\n",
    "            # Regresa a la página anterior después de extraer los datos.\n",
    "            driver.back()\n",
    "            time.sleep(2)\n",
    "\n",
    "        # Encuentra y haz clic en el botón \"Next\" para ir a la siguiente página.\n",
    "        next_button = driver.find_element(By.CSS_SELECTOR, 'a[rel=\"next\"]')\n",
    "        next_button.click()\n",
    "        time.sleep(3)  # Espera 3\n",
    "\n",
    "    except Exception as e:\n",
    "        # Termina el bucle si ocurre un error (por ejemplo, no hay más páginas).\n",
    "        print(f\"Finalizando scraping: {e}\")\n",
    "        break\n",
    "\n",
    "# Convierte la lista de diccionarios en un DataFrame de Pandas.\n",
    "data_scraped = pd.DataFrame(all_tequilas)\n",
    "\n",
    "# Guarda los datos en un archivo CSV para análisis posterior.\n",
    "data_scraped.to_csv('data_scraped.csv', index=False)\n",
    "\n",
    "# Cierra el navegador para finalizar el proceso.\n",
    "driver.quit()\n"
   ]
  },
  {
   "cell_type": "markdown",
   "id": "a2e8bf3b",
   "metadata": {},
   "source": [
    "## 2. Carga y Preprocesamiento de Datos"
   ]
  },
  {
   "cell_type": "code",
   "execution_count": 58,
   "id": "86cd6400",
   "metadata": {},
   "outputs": [
    {
     "name": "stdout",
     "output_type": "stream",
     "text": [
      "Datos cargados correctamente.\n",
      "                                            Name                 Type  \\\n",
      "0                         4 COPAS TEQUILA BLANCO       TEQUILA BLANCO   \n",
      "1             MEZCAL LOS SIETE MISTERIOS PECHUGA         MEZCAL JOVEN   \n",
      "2                    DEL MAGUEY ARROQUEÑO MEZCAL         MEZCAL JOVEN   \n",
      "3  FUENTESECA RESERVA EXTRA AÑEJO TEQUILA 9 AÑOS  TEQUILA EXTRA AÑEJO   \n",
      "4             MIJENTA TEQUILA AÑEJO GRAN RESERVA        TEQUILA AÑEJO   \n",
      "\n",
      "                                   Location  Communitys Rating  # Ratings  \\\n",
      "0                4 COPAS // JALISCO, MEXICO               4.37       44.0   \n",
      "1     LOS SIETE MISTERIOS // OAXACA, MEXICO               4.41       37.0   \n",
      "2              DEL MAGUEY // OAXACA, MEXICO               4.50       71.0   \n",
      "3  FUENTESECA // LOS ALTOS, JALISCO, MEXICO               4.11        8.0   \n",
      "4     MIJENTA // LOS ALTOS, JALISCO, MEXICO               4.25        7.0   \n",
      "\n",
      "             Expert  Expert Score  ABV %  Cost  \\\n",
      "0  JACK ROBERTIELLO            98   40.0     2   \n",
      "1       OMARI WHEAT            98   58.5     5   \n",
      "2       OMARI WHEAT            98   49.0     4   \n",
      "3  DUNCAN MCROBERTS            98   43.0     5   \n",
      "4  STEPHANIE MORENO            97   40.0     5   \n",
      "\n",
      "                                                Cask  \n",
      "0                                             UNAGED  \n",
      "1                                               NONE  \n",
      "2                                                NaN  \n",
      "3  AMERICAN OAK EX-RED WINE BARRELS (85%) AND USE...  \n",
      "4  AMERICAN WHITE OAK, FRENCH OAK, FRENCH ACACIA ...  \n",
      "<class 'pandas.core.frame.DataFrame'>\n",
      "RangeIndex: 500 entries, 0 to 499\n",
      "Data columns (total 10 columns):\n",
      " #   Column             Non-Null Count  Dtype  \n",
      "---  ------             --------------  -----  \n",
      " 0   Name               500 non-null    object \n",
      " 1   Type               500 non-null    object \n",
      " 2   Location           500 non-null    object \n",
      " 3   Communitys Rating  471 non-null    float64\n",
      " 4   # Ratings          471 non-null    float64\n",
      " 5   Expert             500 non-null    object \n",
      " 6   Expert Score       500 non-null    int64  \n",
      " 7   ABV %              497 non-null    float64\n",
      " 8   Cost               500 non-null    int64  \n",
      " 9   Cask               292 non-null    object \n",
      "dtypes: float64(3), int64(2), object(5)\n",
      "memory usage: 39.2+ KB\n",
      "None\n"
     ]
    }
   ],
   "source": [
    "\n",
    "file_path = 'data_scraped.csv'\n",
    "data = pd.read_csv(file_path)\n",
    "print(\"Datos cargados correctamente.\")\n",
    "\n",
    "# Explorar datos\n",
    "print(data.head())\n",
    "print(data.info())"
   ]
  },
  {
   "cell_type": "markdown",
   "id": "c8b66462",
   "metadata": {},
   "source": [
    "### Análisis Exploratorio de Datos"
   ]
  },
  {
   "cell_type": "code",
   "execution_count": 59,
   "id": "856331b8",
   "metadata": {},
   "outputs": [
    {
     "name": "stdout",
     "output_type": "stream",
     "text": [
      "Resumen estadístico:\n",
      "       Communitys Rating   # Ratings  Expert Score       ABV %        Cost\n",
      "count         471.000000  471.000000    500.000000  497.000000  500.000000\n",
      "mean            4.064756   37.388535     89.882000   42.423843    2.986000\n",
      "std             0.488474   85.393381      3.399882    3.733839    1.009873\n",
      "min             1.000000    1.000000     84.000000   35.000000    1.000000\n",
      "25%             3.775000    4.000000     87.000000   40.000000    2.000000\n",
      "50%             4.100000   11.000000     90.000000   40.000000    3.000000\n",
      "75%             4.380000   30.000000     92.000000   45.000000    4.000000\n",
      "max             5.000000  836.000000     98.000000   58.500000    5.000000\n",
      "Valores nulos por columna:\n",
      "Name                   0\n",
      "Type                   0\n",
      "Location               0\n",
      "Communitys Rating     29\n",
      "# Ratings             29\n",
      "Expert                 0\n",
      "Expert Score           0\n",
      "ABV %                  3\n",
      "Cost                   0\n",
      "Cask                 208\n",
      "dtype: int64\n",
      "Filas problemáticas:\n",
      "                                         Name              Type  \\\n",
      "2                 DEL MAGUEY ARROQUEÑO MEZCAL      MEZCAL JOVEN   \n",
      "5                 CLASE AZUL TEQUILA REPOSADO  TEQUILA REPOSADO   \n",
      "12   TEQUILA ARTENOM SELECCIÓN DE 1579 BLANCO    TEQUILA BLANCO   \n",
      "17         MEZCAL PIERDE ALMAS WILD TEPEXTATE      MEZCAL JOVEN   \n",
      "19                      KOCH EL MEZCAL COYOTE      MEZCAL JOVEN   \n",
      "..                                        ...               ...   \n",
      "488                      MEZCAL SANTA PEDRERA      MEZCAL JOVEN   \n",
      "490                  CORAZÓN REPOSADO TEQUILA  TEQUILA REPOSADO   \n",
      "494                CASA NOBLE CRYSTAL TEQUILA    TEQUILA BLANCO   \n",
      "497                  HERRADURA SILVER TEQUILA    TEQUILA BLANCO   \n",
      "499         TEQUILA OCHO PLATA LAS POMEZ 2009    TEQUILA BLANCO   \n",
      "\n",
      "                                          Location  Communitys Rating  \\\n",
      "2                     DEL MAGUEY // OAXACA, MEXICO               4.50   \n",
      "5         CLASE AZUL // LOS ALTOS, JALISCO, MEXICO               4.59   \n",
      "12   TEQUILA ARTENOM // LOS ALTOS, JALISCO, MEXICO               4.30   \n",
      "17           MEZCAL PIERDE ALMAS // OAXACA, MEXICO               4.14   \n",
      "19                                  OAXACA, MEXICO               4.10   \n",
      "..                                             ...                ...   \n",
      "488                                 OAXACA, MEXICO               4.50   \n",
      "490                     LOS ALTOS, JALISCO, MEXICO               3.59   \n",
      "494  CASA NOBLE // TEQUILA VALLEY, JALISCO, MEXICO               3.45   \n",
      "497                TEQUILA VALLEY, JALISCO, MEXICO               3.68   \n",
      "499     TEQUILA OCHO // LOS ALTOS, JALISCO, MEXICO                NaN   \n",
      "\n",
      "     # Ratings            Expert  Expert Score  ABV %  Cost Cask  \n",
      "2         71.0       OMARI WHEAT            98   49.0     4  NaN  \n",
      "5        836.0     BROCK SCHULTE            97   40.0     4  NaN  \n",
      "12        27.0    FORREST COKELY            96    NaN     3  NaN  \n",
      "17         7.0       RON BECHTOL            96   50.0     4  NaN  \n",
      "19         6.0       OMARI WHEAT            96   47.0     4  NaN  \n",
      "..         ...               ...           ...    ...   ...  ...  \n",
      "488        7.0   AMANDA SCHUSTER            84   46.0     2  NaN  \n",
      "490       24.0     BROCK SCHULTE            84   40.0     2  NaN  \n",
      "494       68.0     BROCK SCHULTE            84   40.0     2  NaN  \n",
      "497      155.0  DUNCAN MCROBERTS            84   40.0     2  NaN  \n",
      "499        NaN     BROCK SCHULTE            84   40.0     2  NaN  \n",
      "\n",
      "[224 rows x 10 columns]\n"
     ]
    },
    {
     "data": {
      "image/png": "[encoded data removed]",
      "text/plain": [
       "<Figure size 640x480 with 1 Axes>"
      ]
     },
     "metadata": {},
     "output_type": "display_data"
    }
   ],
   "source": [
    "\n",
    "# Explorar las características de los datos\n",
    "print(\"Resumen estadístico:\")\n",
    "print(data.describe())\n",
    "\n",
    "# Valores nulos y filas problemáticas\n",
    "print(\"Valores nulos por columna:\")\n",
    "print(data.isnull().sum())\n",
    "\n",
    "\n",
    "# Explorar filas problemáticas\n",
    "problematic_rows = data[data.isnull().any(axis=1)]\n",
    "print(\"Filas problemáticas:\")\n",
    "print(problematic_rows)\n",
    "\n",
    "# Visualización de distribuciones\n",
    "sns.histplot(data['Communitys Rating'], kde=True)\n",
    "plt.title(\"Distribución del Rating Comunitario\")\n",
    "plt.show()\n"
   ]
  },
  {
   "cell_type": "markdown",
   "id": "cfad31fa",
   "metadata": {},
   "source": [
    "### Outliers"
   ]
  },
  {
   "cell_type": "code",
   "execution_count": 60,
   "id": "cdacc005",
   "metadata": {},
   "outputs": [
    {
     "name": "stdout",
     "output_type": "stream",
     "text": [
      "Datos después de eliminar outliers:\n",
      "       Communitys Rating   # Ratings  Expert Score       ABV %        Cost\n",
      "count         402.000000  402.000000    402.000000  402.000000  402.000000\n",
      "mean            4.105299   15.126866     89.838308   42.484701    3.022388\n",
      "std             0.441700   16.499265      3.379744    3.579858    0.992237\n",
      "min             2.940000    1.000000     84.000000   35.000000    1.000000\n",
      "25%             3.810000    3.000000     87.000000   40.000000    2.000000\n",
      "50%             4.130000    9.000000     90.000000   40.000000    3.000000\n",
      "75%             4.420000   20.000000     92.000000   45.000000    4.000000\n",
      "max             5.000000   71.000000     98.000000   53.000000    5.000000\n"
     ]
    }
   ],
   "source": [
    "# Eliminar outliers usando el rango intercuartil\n",
    "for col in numeric_columns:\n",
    "    Q1 = data[col].quantile(0.25)\n",
    "    Q3 = data[col].quantile(0.75)\n",
    "    IQR = Q3 - Q1\n",
    "    lower_bound = Q1 - 1.5 * IQR\n",
    "    upper_bound = Q3 + 1.5 * IQR\n",
    "    data = data[(data[col] >= lower_bound) & (data[col] <= upper_bound)]\n",
    "\n",
    "print(\"Datos después de eliminar outliers:\")\n",
    "print(data.describe())"
   ]
  },
  {
   "cell_type": "markdown",
   "id": "22f74eb9",
   "metadata": {},
   "source": [
    "### Limpieza de Datos"
   ]
  },
  {
   "cell_type": "code",
   "execution_count": 62,
   "id": "e2cfbe29",
   "metadata": {},
   "outputs": [],
   "source": [
    "\n",
    "# Remover filas completamente vacías\n",
    "data.dropna(how='all', inplace=True)\n",
    "\n",
    "# Limpiar columnas categóricas\n",
    "data['Location'] = data['Location'].replace(r'[^a-zA-Z, ]', '', regex=True)\n",
    "data['Name'] = data['Name'].str.strip()\n",
    "\n",
    "# Eliminamos filas con valores nulos en columnas clave\n",
    "data.dropna(subset=[\"Communitys Rating\", \"# Ratings\", \"ABV %\", \"Cost\"], inplace=True)\n",
    "\n",
    "# Convertir columnas numéricas\n",
    "numeric_columns = [\"Communitys Rating\", \"# Ratings\", \"ABV %\", \"Cost\"]\n",
    "for col in numeric_columns:\n",
    "    data[col] = pd.to_numeric(data[col], errors='coerce')\n",
    "\n",
    "# Imputamos valores faltantes en columnas numéricas\n",
    "data.fillna(data.median(numeric_only=True), inplace=True)\n"
   ]
  },
  {
   "cell_type": "code",
   "execution_count": 63,
   "id": "efe9876a",
   "metadata": {},
   "outputs": [
    {
     "data": {
      "image/png": "[encoded data removed]",
      "text/plain": [
       "<Figure size 1000x800 with 2 Axes>"
      ]
     },
     "metadata": {},
     "output_type": "display_data"
    }
   ],
   "source": [
    "# Seleccionar únicamente las columnas numéricas\n",
    "numeric_data = data.select_dtypes(include=[np.number])\n",
    "\n",
    "# Crear y visualizar la matriz de correlación\n",
    "corr = numeric_data.corr()\n",
    "import seaborn as sns\n",
    "import matplotlib.pyplot as plt\n",
    "\n",
    "plt.figure(figsize=(10, 8))\n",
    "sns.heatmap(corr, annot=True, cmap='coolwarm', fmt=\".2f\")\n",
    "plt.title(\"Matriz de correlación entre variables numéricas\")\n",
    "plt.show()"
   ]
  },
  {
   "cell_type": "code",
   "execution_count": 64,
   "id": "9578b509",
   "metadata": {},
   "outputs": [
    {
     "name": "stdout",
     "output_type": "stream",
     "text": [
      "-- Datos después de limpieza:\n",
      "Primeras filas:\n",
      "                                            Name                 Type  \\\n",
      "0                         4 COPAS TEQUILA BLANCO       TEQUILA BLANCO   \n",
      "2                    DEL MAGUEY ARROQUEÑO MEZCAL         MEZCAL JOVEN   \n",
      "3  FUENTESECA RESERVA EXTRA AÑEJO TEQUILA 9 AÑOS  TEQUILA EXTRA AÑEJO   \n",
      "4             MIJENTA TEQUILA AÑEJO GRAN RESERVA        TEQUILA AÑEJO   \n",
      "6                 DULCE VIDA EXTRA AÑEJO TEQUILA  TEQUILA EXTRA AÑEJO   \n",
      "\n",
      "                                 Location  Communitys Rating  # Ratings  \\\n",
      "0                  COPAS  JALISCO, MEXICO               4.37       44.0   \n",
      "2              DEL MAGUEY  OAXACA, MEXICO               4.50       71.0   \n",
      "3  FUENTESECA  LOS ALTOS, JALISCO, MEXICO               4.11        8.0   \n",
      "4     MIJENTA  LOS ALTOS, JALISCO, MEXICO               4.25        7.0   \n",
      "6  DULCE VIDA  LOS ALTOS, JALISCO, MEXICO               4.31       31.0   \n",
      "\n",
      "             Expert  Expert Score  ABV %  Cost  \\\n",
      "0  JACK ROBERTIELLO            98   40.0     2   \n",
      "2       OMARI WHEAT            98   49.0     4   \n",
      "3  DUNCAN MCROBERTS            98   43.0     5   \n",
      "4  STEPHANIE MORENO            97   40.0     5   \n",
      "6       RON BECHTOL            97   50.0     4   \n",
      "\n",
      "                                                Cask  \n",
      "0                                             UNAGED  \n",
      "2                                                NaN  \n",
      "3  AMERICAN OAK EX-RED WINE BARRELS (85%) AND USE...  \n",
      "4  AMERICAN WHITE OAK, FRENCH OAK, FRENCH ACACIA ...  \n",
      "6                                EX-RED WINE BARRELS  \n",
      "Información general:\n",
      "<class 'pandas.core.frame.DataFrame'>\n",
      "Index: 402 entries, 0 to 498\n",
      "Data columns (total 10 columns):\n",
      " #   Column             Non-Null Count  Dtype  \n",
      "---  ------             --------------  -----  \n",
      " 0   Name               402 non-null    object \n",
      " 1   Type               402 non-null    object \n",
      " 2   Location           402 non-null    object \n",
      " 3   Communitys Rating  402 non-null    float64\n",
      " 4   # Ratings          402 non-null    float64\n",
      " 5   Expert             402 non-null    object \n",
      " 6   Expert Score       402 non-null    int64  \n",
      " 7   ABV %              402 non-null    float64\n",
      " 8   Cost               402 non-null    int64  \n",
      " 9   Cask               236 non-null    object \n",
      "dtypes: float64(3), int64(2), object(5)\n",
      "memory usage: 34.5+ KB\n",
      "None\n",
      "Resumen estadístico:\n",
      "       Communitys Rating   # Ratings  Expert Score       ABV %        Cost\n",
      "count         402.000000  402.000000    402.000000  402.000000  402.000000\n",
      "mean            4.105299   15.126866     89.838308   42.484701    3.022388\n",
      "std             0.441700   16.499265      3.379744    3.579858    0.992237\n",
      "min             2.940000    1.000000     84.000000   35.000000    1.000000\n",
      "25%             3.810000    3.000000     87.000000   40.000000    2.000000\n",
      "50%             4.130000    9.000000     90.000000   40.000000    3.000000\n",
      "75%             4.420000   20.000000     92.000000   45.000000    4.000000\n",
      "max             5.000000   71.000000     98.000000   53.000000    5.000000\n"
     ]
    },
    {
     "data": {
      "image/png": "[encoded data removed]",
      "text/plain": [
       "<Figure size 640x480 with 1 Axes>"
      ]
     },
     "metadata": {},
     "output_type": "display_data"
    }
   ],
   "source": [
    "# Despues de la limpieza \n",
    "print(\"-- Datos después de limpieza:\")\n",
    "# Explorar datos\n",
    "print(\"Primeras filas:\")\n",
    "print(data.head())\n",
    "\n",
    "print(\"Información general:\")\n",
    "print(data.info())\n",
    "\n",
    "# Explorar las características de los datos\n",
    "print(\"Resumen estadístico:\")\n",
    "print(data.describe())\n",
    "\n",
    "# Distribucion del rating comunitario con limpieza de datos\n",
    "sns.histplot(data['Communitys Rating'], kde=True)\n",
    "plt.title(\"Distribución del Rating Comunitario\")\n",
    "plt.show()"
   ]
  },
  {
   "cell_type": "markdown",
   "id": "bfa51cc9",
   "metadata": {},
   "source": [
    "## 3. Regresión Lineal"
   ]
  },
  {
   "cell_type": "code",
   "execution_count": 65,
   "id": "19a4ed0a",
   "metadata": {},
   "outputs": [
    {
     "name": "stdout",
     "output_type": "stream",
     "text": [
      "Regresión Lineal - MSE: 0.13499653106931475\n",
      "Regresión Lineal - R^2: 0.1250126545449376\n",
      "R^2 promedio en validación cruzada: 0.02747507235513986\n"
     ]
    }
   ],
   "source": [
    "# Entrenamiento de modelo de regresión lineal para predecir el rating comunitario\n",
    "\n",
    "# Selección de características relevantes\n",
    "X = data[[\"Expert Score\", \"Cost\"]]\n",
    "y = data[\"Communitys Rating\"]\n",
    "\n",
    "# División de datos\n",
    "X_train, X_test, y_train, y_test = train_test_split(X, y, test_size=0.2, random_state=42)\n",
    "\n",
    "# Regresión Lineal\n",
    "reg_model = LinearRegression()\n",
    "reg_model.fit(X_train, y_train)\n",
    "y_pred = reg_model.predict(X_test)\n",
    "\n",
    "mse = mean_squared_error(y_test, y_pred)\n",
    "r2 = r2_score(y_test, y_pred)\n",
    "\n",
    "# Evaluar modelo\n",
    "\n",
    "print(f\"Regresión Lineal - MSE: {mse}\")\n",
    "print(f\"Regresión Lineal - R^2: {r2}\")\n",
    "\n",
    "# Validación Cruzada\n",
    "cv_scores = cross_val_score(reg_model, X, y, cv=5, scoring='r2')\n",
    "print(f\"R^2 promedio en validación cruzada: {cv_scores.mean()}\")\n"
   ]
  },
  {
   "cell_type": "markdown",
   "id": "937a41aa",
   "metadata": {},
   "source": [
    "## 4. Clasificación"
   ]
  },
  {
   "cell_type": "code",
   "execution_count": 56,
   "id": "60c30eab",
   "metadata": {},
   "outputs": [
    {
     "name": "stdout",
     "output_type": "stream",
     "text": [
      "Collecting imblearn\n",
      "  Downloading imblearn-0.0-py2.py3-none-any.whl.metadata (355 bytes)\n",
      "Collecting imbalanced-learn (from imblearn)\n",
      "  Downloading imbalanced_learn-0.12.4-py3-none-any.whl.metadata (8.3 kB)\n",
      "Requirement already satisfied: numpy>=1.17.3 in c:\\users\\srfue\\appdata\\local\\programs\\python\\python312\\lib\\site-packages (from imbalanced-learn->imblearn) (2.1.1)\n",
      "Requirement already satisfied: scipy>=1.5.0 in c:\\users\\srfue\\appdata\\local\\programs\\python\\python312\\lib\\site-packages (from imbalanced-learn->imblearn) (1.14.1)\n",
      "Requirement already satisfied: scikit-learn>=1.0.2 in c:\\users\\srfue\\appdata\\local\\programs\\python\\python312\\lib\\site-packages (from imbalanced-learn->imblearn) (1.5.2)\n",
      "Requirement already satisfied: joblib>=1.1.1 in c:\\users\\srfue\\appdata\\local\\programs\\python\\python312\\lib\\site-packages (from imbalanced-learn->imblearn) (1.4.2)\n",
      "Requirement already satisfied: threadpoolctl>=2.0.0 in c:\\users\\srfue\\appdata\\local\\programs\\python\\python312\\lib\\site-packages (from imbalanced-learn->imblearn) (3.5.0)\n",
      "Downloading imblearn-0.0-py2.py3-none-any.whl (1.9 kB)\n",
      "Downloading imbalanced_learn-0.12.4-py3-none-any.whl (258 kB)\n",
      "   ---------------------------------------- 0.0/258.3 kB ? eta -:--:--\n",
      "   - -------------------------------------- 10.2/258.3 kB ? eta -:--:--\n",
      "   ---- ---------------------------------- 30.7/258.3 kB 435.7 kB/s eta 0:00:01\n",
      "   ------------------- -------------------- 122.9/258.3 kB 1.0 MB/s eta 0:00:01\n",
      "   ---------------------------------------- 258.3/258.3 kB 1.6 MB/s eta 0:00:00\n",
      "Installing collected packages: imbalanced-learn, imblearn\n",
      "Successfully installed imbalanced-learn-0.12.4 imblearn-0.0\n",
      "Note: you may need to restart the kernel to use updated packages.\n"
     ]
    },
    {
     "name": "stderr",
     "output_type": "stream",
     "text": [
      "\n",
      "[notice] A new release of pip is available: 24.0 -> 24.3.1\n",
      "[notice] To update, run: python.exe -m pip install --upgrade pip\n"
     ]
    }
   ],
   "source": [
    "%pip install imblearn"
   ]
  },
  {
   "cell_type": "code",
   "execution_count": null,
   "id": "28a07015",
   "metadata": {},
   "outputs": [
    {
     "name": "stdout",
     "output_type": "stream",
     "text": [
      "Reporte de Clasificación:\n",
      "              precision    recall  f1-score   support\n",
      "\n",
      "     Neutral       0.68      0.84      0.75        67\n",
      "    Positivo       0.83      0.67      0.74        79\n",
      "\n",
      "    accuracy                           0.75       146\n",
      "   macro avg       0.76      0.75      0.75       146\n",
      "weighted avg       0.76      0.75      0.75       146\n",
      "\n",
      "Matriz de Confusión:\n",
      "[[56 11]\n",
      " [26 53]]\n"
     ]
    }
   ],
   "source": [
    "from imblearn.over_sampling import SMOTE\n",
    "# Etiquetar ratings\n",
    "data['Rating Class'] = pd.cut(data[\"Communitys Rating\"], bins=[0, 2.5, 3.5, 5], labels=[\"Negativo\", \"Neutral\", \"Positivo\"])\n",
    "\n",
    "# Balanceo de clases\n",
    "X_class = data[[\"Expert Score\", \"Cost\"]]\n",
    "y_class = data[\"Rating Class\"]\n",
    "smote = SMOTE(random_state=42)\n",
    "X_resampled, y_resampled = smote.fit_resample(X_class, y_class)\n",
    "\n",
    "# División de datos balanceados\n",
    "X_train_class, X_test_class, y_train_class, y_test_class = train_test_split(X_resampled, y_resampled, test_size=0.2, random_state=42)\n",
    "\n",
    "# Modelo de clasificación\n",
    "clf = RandomForestClassifier(random_state=42)\n",
    "clf.fit(X_train_class, y_train_class)\n",
    "y_pred_class = clf.predict(X_test_class)\n",
    "\n",
    "# Métricas y matriz de confusión\n",
    "print(\"Reporte de Clasificación:\")\n",
    "print(classification_report(y_test_class, y_pred_class))\n",
    "\n",
    "print(\"Matriz de Confusión:\")\n",
    "print(confusion_matrix(y_test_class, y_pred_class))"
   ]
  },
  {
   "cell_type": "markdown",
   "id": "3a178130",
   "metadata": {},
   "source": [
    "## 5. Optimización de Hiperparámetros"
   ]
  },
  {
   "cell_type": "code",
   "execution_count": 68,
   "id": "546d5036",
   "metadata": {},
   "outputs": [
    {
     "name": "stdout",
     "output_type": "stream",
     "text": [
      "Ridge - Mejores parámetros: {'alpha': 100}, Mejor R^2: 0.03724454860349049\n",
      "Lasso - Mejores parámetros: {'alpha': 0.01}, Mejor R^2: 0.029588527425647947\n"
     ]
    }
   ],
   "source": [
    "from sklearn.linear_model import Ridge, Lasso\n",
    "from sklearn.model_selection import GridSearchCV\n",
    "\n",
    "# Ridge\n",
    "ridge = Ridge()\n",
    "param_grid_ridge = {'alpha': [0.1, 1, 10, 100]}\n",
    "grid_ridge = GridSearchCV(ridge, param_grid_ridge, scoring='r2', cv=5)\n",
    "grid_ridge.fit(X, y)\n",
    "print(f\"Ridge - Mejores parámetros: {grid_ridge.best_params_}, Mejor R^2: {grid_ridge.best_score_}\")\n",
    "\n",
    "# Lasso\n",
    "lasso = Lasso()\n",
    "param_grid_lasso = {'alpha': [0.01, 0.1, 1, 10]}\n",
    "grid_lasso = GridSearchCV(lasso, param_grid_lasso, scoring='r2', cv=5)\n",
    "grid_lasso.fit(X, y)\n",
    "print(f\"Lasso - Mejores parámetros: {grid_lasso.best_params_}, Mejor R^2: {grid_lasso.best_score_}\")\n"
   ]
  },
  {
   "cell_type": "markdown",
   "id": "ac259838",
   "metadata": {},
   "source": [
    "## 6. Conclusiones"
   ]
  },
  {
   "cell_type": "markdown",
   "id": "12d8656d",
   "metadata": {},
   "source": [
    "# Conclusiones\n",
    "- La eliminación de outliers mejoró la estabilidad del modelo.\n",
    "- Ridge y Lasso optimizados superaron al modelo base de regresión lineal.\n",
    "- La clasificación multiclase obtuvo resultados adecuados tras el balanceo de clases.\n",
    "- Regresión polinómica y kNN podrían ser extensiones interesantes para explorar.\n"
   ]
  },
  {
   "cell_type": "markdown",
   "id": "592ff106",
   "metadata": {},
   "source": [
    "## 7. Regresión kNN"
   ]
  },
  {
   "cell_type": "code",
   "execution_count": 69,
   "id": "4cdb5cdd",
   "metadata": {},
   "outputs": [
    {
     "name": "stdout",
     "output_type": "stream",
     "text": [
      "Mejor valor de k: 30\n",
      "Resultados del modelo kNN:\n",
      "Error cuadrático medio (MSE): 0.1361289880624426\n",
      "Coeficiente de determinación (R^2): 0.20306364159648316\n",
      "\n",
      "Comparación con la regresión lineal:\n",
      "Regresión Lineal - MSE: 0.13499653106931475\n",
      "Regresión Lineal - R^2: 0.1250126545449376\n",
      "kNN - MSE: 0.1361289880624426\n",
      "kNN - R^2: 0.20306364159648316\n"
     ]
    }
   ],
   "source": [
    "X = data[['Cost', 'ABV %', 'Expert Score']]\n",
    "y = data['Communitys Rating']\n",
    "\n",
    "# Dividir los datos en entrenamiento y prueba\n",
    "X_train, X_test, y_train, y_test = train_test_split(X, y, test_size=0.3, random_state=42)\n",
    "\n",
    "# Definir el modelo kNN con GridSearchCV para optimizar k\n",
    "param_grid = {'n_neighbors': range(1, 31)}  # Probar valores de k entre 1 y 30\n",
    "knn = KNeighborsRegressor()\n",
    "\n",
    "grid_search = GridSearchCV(knn, param_grid, cv=5, scoring='neg_mean_squared_error', n_jobs=-1)\n",
    "grid_search.fit(X_train, y_train)\n",
    "\n",
    "# Mejor valor de k\n",
    "best_k = grid_search.best_params_['n_neighbors']\n",
    "print(f\"Mejor valor de k: {best_k}\")\n",
    "\n",
    "# Entrenar el modelo kNN con el mejor k\n",
    "best_knn = KNeighborsRegressor(n_neighbors=best_k)\n",
    "best_knn.fit(X_train, y_train)\n",
    "\n",
    "# Hacer predicciones\n",
    "y_pred_knn = best_knn.predict(X_test)\n",
    "\n",
    "# Evaluar el modelo\n",
    "mse_knn = mean_squared_error(y_test, y_pred_knn)\n",
    "r2_knn = r2_score(y_test, y_pred_knn)\n",
    "\n",
    "print(\"Resultados del modelo kNN:\")\n",
    "print(f\"Error cuadrático medio (MSE): {mse_knn}\")\n",
    "print(f\"Coeficiente de determinación (R^2): {r2_knn}\")\n",
    "\n",
    "# Comparar con los resultados del modelo de regresión lineal\n",
    "print(\"\\nComparación con la regresión lineal:\")\n",
    "print(f\"Regresión Lineal - MSE: {mse}\")\n",
    "print(f\"Regresión Lineal - R^2: {r2}\")\n",
    "print(f\"kNN - MSE: {mse_knn}\")\n",
    "print(f\"kNN - R^2: {r2_knn}\")"
   ]
  }
 ],
 "metadata": {
  "kernelspec": {
   "display_name": "base",
   "language": "python",
   "name": "python3"
  },
  "language_info": {
   "codemirror_mode": {
    "name": "ipython",
    "version": 3
   },
   "file_extension": ".py",
   "mimetype": "text/x-python",
   "name": "python",
   "nbconvert_exporter": "python",
   "pygments_lexer": "ipython3",
   "version": "3.12.4"
  }
 },
 "nbformat": 4,
 "nbformat_minor": 5
}
